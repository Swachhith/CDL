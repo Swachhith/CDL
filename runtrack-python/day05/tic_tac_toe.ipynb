{
 "cells": [
  {
   "cell_type": "code",
   "execution_count": 1,
   "metadata": {},
   "outputs": [
    {
     "name": "stdout",
     "output_type": "stream",
     "text": [
      "pygame 2.5.1 (SDL 2.28.2, Python 3.10.12)\n",
      "Hello from the pygame community. https://www.pygame.org/contribute.html\n"
     ]
    },
    {
     "ename": "SystemExit",
     "evalue": "",
     "output_type": "error",
     "traceback": [
      "An exception has occurred, use %tb to see the full traceback.\n",
      "\u001b[0;31mSystemExit\u001b[0m\n"
     ]
    },
    {
     "name": "stderr",
     "output_type": "stream",
     "text": [
      "/home/saikowsik/.local/lib/python3.10/site-packages/IPython/core/interactiveshell.py:3516: UserWarning: To exit: use 'exit', 'quit', or Ctrl-D.\n",
      "  warn(\"To exit: use 'exit', 'quit', or Ctrl-D.\", stacklevel=1)\n"
     ]
    }
   ],
   "source": [
    "import pygame\n",
    "import sys\n",
    "import random\n",
    "\n",
    "# Initialize Pygame\n",
    "pygame.init()\n",
    "\n",
    "# Constants\n",
    "WIDTH, HEIGHT = 600, 600\n",
    "LINE_WIDTH = 15\n",
    "GRID_SIZE = 3\n",
    "GRID_WIDTH = WIDTH // GRID_SIZE\n",
    "GRID_HEIGHT = HEIGHT // GRID_SIZE\n",
    "WHITE = (255, 255, 255)\n",
    "LINE_COLOR = (0, 0, 0)\n",
    "X_COLOR = (255, 0, 0)\n",
    "O_COLOR = (0, 0, 255)\n",
    "FONT_SIZE = 48\n",
    "FONT = pygame.font.Font(None, FONT_SIZE)\n",
    "\n",
    "# Initialize the game window\n",
    "screen = pygame.display.set_mode((WIDTH, HEIGHT))\n",
    "pygame.display.set_caption(\"Tic Tac Toe\")\n",
    "\n",
    "# Initialize the game variables\n",
    "grid = [[\"\" for _ in range(GRID_SIZE)] for _ in range(GRID_SIZE)]\n",
    "player_turn = \"X\"\n",
    "game_over = False\n",
    "\n",
    "# Function to draw the grid lines\n",
    "def draw_grid():\n",
    "    for row in range(1, GRID_SIZE):\n",
    "        pygame.draw.line(screen, LINE_COLOR, (0, row * GRID_HEIGHT), (WIDTH, row * GRID_HEIGHT), LINE_WIDTH)\n",
    "        pygame.draw.line(screen, LINE_COLOR, (row * GRID_WIDTH, 0), (row * GRID_WIDTH, HEIGHT), LINE_WIDTH)\n",
    "\n",
    "# Function to draw X and O on the board\n",
    "def draw_symbols():\n",
    "    for row in range(GRID_SIZE):\n",
    "        for col in range(GRID_SIZE):\n",
    "            if grid[row][col] == \"X\":\n",
    "                x_pos = col * GRID_WIDTH + GRID_WIDTH // 2\n",
    "                y_pos = row * GRID_HEIGHT + GRID_HEIGHT // 2\n",
    "                pygame.draw.line(screen, X_COLOR, (x_pos - 40, y_pos - 40), (x_pos + 40, y_pos + 40), LINE_WIDTH)\n",
    "                pygame.draw.line(screen, X_COLOR, (x_pos + 40, y_pos - 40), (x_pos - 40, y_pos + 40), LINE_WIDTH)\n",
    "            elif grid[row][col] == \"O\":\n",
    "                x_pos = col * GRID_WIDTH + GRID_WIDTH // 2\n",
    "                y_pos = row * GRID_HEIGHT + GRID_HEIGHT // 2\n",
    "                pygame.draw.circle(screen, O_COLOR, (x_pos, y_pos), GRID_WIDTH // 2 - 10, LINE_WIDTH)\n",
    "\n",
    "# Function to check if a player has won\n",
    "def check_winner(player):\n",
    "    for row in range(GRID_SIZE):\n",
    "        if all([grid[row][col] == player for col in range(GRID_SIZE)]):\n",
    "            return True\n",
    "    for col in range(GRID_SIZE):\n",
    "        if all([grid[row][col] == player for row in range(GRID_SIZE)]):\n",
    "            return True\n",
    "    if all([grid[i][i] == player for i in range(GRID_SIZE)]) or all([grid[i][GRID_SIZE - 1 - i] == player for i in range(GRID_SIZE)]):\n",
    "        return True\n",
    "    return False\n",
    "\n",
    "# Function to check if the board is full\n",
    "def board_full():\n",
    "    return all([cell != \"\" for row in grid for cell in row])\n",
    "\n",
    "# Main game loop\n",
    "while True:\n",
    "    for event in pygame.event.get():\n",
    "        if event.type == pygame.QUIT:\n",
    "            pygame.quit()\n",
    "            sys.exit()\n",
    "        if not game_over:\n",
    "            if event.type == pygame.MOUSEBUTTONDOWN and not board_full():\n",
    "                x, y = event.pos\n",
    "                col = x // GRID_WIDTH\n",
    "                row = y // GRID_HEIGHT\n",
    "                if grid[row][col] == \"\":\n",
    "                    grid[row][col] = player_turn\n",
    "                    if check_winner(player_turn):\n",
    "                        game_over = True\n",
    "                    elif board_full():\n",
    "                        game_over = True\n",
    "                    player_turn = \"O\" if player_turn == \"X\" else \"X\"\n",
    "\n",
    "    screen.fill(WHITE)\n",
    "    draw_grid()\n",
    "    draw_symbols()\n",
    "\n",
    "    if game_over:\n",
    "        winner_text = \"Player X wins!\" if check_winner(\"X\") else \"Player O wins!\" if check_winner(\"O\") else \"It's a tie!\"\n",
    "        text = FONT.render(winner_text, True, LINE_COLOR)\n",
    "        screen.blit(text, (WIDTH // 2 - FONT_SIZE * 2, HEIGHT // 2 - FONT_SIZE))\n",
    "    \n",
    "    pygame.display.update()\n"
   ]
  },
  {
   "cell_type": "code",
   "execution_count": null,
   "metadata": {},
   "outputs": [],
   "source": []
  }
 ],
 "metadata": {
  "kernelspec": {
   "display_name": "Python 3",
   "language": "python",
   "name": "python3"
  },
  "language_info": {
   "codemirror_mode": {
    "name": "ipython",
    "version": 3
   },
   "file_extension": ".py",
   "mimetype": "text/x-python",
   "name": "python",
   "nbconvert_exporter": "python",
   "pygments_lexer": "ipython3",
   "version": "3.10.12"
  },
  "orig_nbformat": 4
 },
 "nbformat": 4,
 "nbformat_minor": 2
}
